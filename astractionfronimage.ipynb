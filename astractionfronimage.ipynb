{
 "cells": [
  {
   "cell_type": "code",
   "execution_count": 1,
   "metadata": {},
   "outputs": [],
   "source": [
    "from PIL import Image\n",
    "import pytesseract\n",
    "import re"
   ]
  },
  {
   "cell_type": "code",
   "execution_count": 2,
   "metadata": {},
   "outputs": [],
   "source": [
    "image_path = 'C:/Users/a2z control/Pictures/invoiceimage.PNG' \n",
    "image = Image.open(image_path)"
   ]
  },
  {
   "cell_type": "code",
   "execution_count": 3,
   "metadata": {},
   "outputs": [],
   "source": [
    "extracted_text = pytesseract.image_to_string(image)"
   ]
  },
  {
   "cell_type": "code",
   "execution_count": 4,
   "metadata": {},
   "outputs": [],
   "source": [
    "#=============abstracting \"total amount \" from image "
   ]
  },
  {
   "cell_type": "code",
   "execution_count": 5,
   "metadata": {},
   "outputs": [
    {
     "name": "stdout",
     "output_type": "stream",
     "text": [
      "Total amount not found.\n"
     ]
    }
   ],
   "source": [
    "pattern = r'\\d+(\\.\\d+)?'\n",
    "matches = re.findall(pattern, extracted_text)\n",
    "if matches:\n",
    "    total_amount_str = matches[0]\n",
    "    if total_amount_str:\n",
    "        total_amount = float(total_amount_str)\n",
    "        print(\"Total amount:\", total_amount)\n",
    "    else:\n",
    "        print(\"Total amount not found.\")\n",
    "else:\n",
    "    print(\"Total amount not found.\")"
   ]
  },
  {
   "cell_type": "code",
   "execution_count": 6,
   "metadata": {},
   "outputs": [],
   "source": [
    "#  ==================    abstracting \"GST number \" from image"
   ]
  },
  {
   "cell_type": "code",
   "execution_count": 7,
   "metadata": {},
   "outputs": [
    {
     "name": "stdout",
     "output_type": "stream",
     "text": [
      "GST numbers found:\n",
      "\n",
      ".10\n",
      "\n",
      "\n",
      "\n",
      "\n",
      "\n",
      "\n",
      "\n",
      "\n",
      "\n",
      "\n",
      "\n",
      "\n",
      "\n",
      "\n",
      "\n",
      ".36\n",
      "\n",
      "\n",
      "\n",
      "\n",
      "\n",
      ".99\n",
      "\n",
      "\n",
      "\n",
      ".0\n",
      ".00\n",
      "\n",
      "\n",
      "\n",
      ".00\n",
      "\n",
      ".49\n",
      "\n",
      "\n",
      "\n",
      ".00\n",
      "\n",
      "\n",
      "\n",
      ".69\n",
      "\n",
      "\n",
      ".00\n",
      "\n",
      "\n",
      "\n",
      "\n",
      "\n",
      "\n",
      ".0\n",
      "\n",
      "\n",
      "\n",
      "\n",
      ".87\n",
      ".0\n",
      ".00\n",
      "\n"
     ]
    }
   ],
   "source": [
    "if matches:\n",
    "    gst_numbers = matches\n",
    "    print(\"GST numbers found:\")\n",
    "    for gst_number in gst_numbers:\n",
    "        print(gst_number)\n",
    "else:\n",
    "    print(\"No GST numbers found.\")"
   ]
  },
  {
   "cell_type": "code",
   "execution_count": 8,
   "metadata": {},
   "outputs": [],
   "source": [
    "data = pytesseract.image_to_data(image, output_type=pytesseract.Output.DICT)"
   ]
  },
  {
   "cell_type": "code",
   "execution_count": 9,
   "metadata": {},
   "outputs": [],
   "source": [
    "#====================== abstracting pixels of word \"archna papad udyog\""
   ]
  },
  {
   "cell_type": "code",
   "execution_count": 10,
   "metadata": {},
   "outputs": [
    {
     "name": "stdout",
     "output_type": "stream",
     "text": [
      "Word not found.\n"
     ]
    }
   ],
   "source": [
    "word = \"Archana Papad Udyog\"\n",
    "word_coordinates = []\n",
    "for i, word_text in enumerate(data['text']):\n",
    "    if word_text == word:\n",
    "        left = data['left'][i]\n",
    "        top = data['top'][i]\n",
    "        width = data['width'][i]\n",
    "        height = data['height'][i]\n",
    "        word_coordinates.append((left, top, width, height))\n",
    "\n",
    "# Print the word coordinates\n",
    "if word_coordinates:\n",
    "    print(\"Coordinates for word:\", word)\n",
    "    for coordinates in word_coordinates:\n",
    "        print(\"Left:\", coordinates[0])\n",
    "        print(\"Top:\", coordinates[1])\n",
    "        print(\"Width:\", coordinates[2])\n",
    "        print(\"Height:\", coordinates[3])\n",
    "else:\n",
    "    print(\"Word not found.\")"
   ]
  },
  {
   "cell_type": "code",
   "execution_count": 11,
   "metadata": {},
   "outputs": [],
   "source": [
    "import cv2"
   ]
  },
  {
   "cell_type": "code",
   "execution_count": 12,
   "metadata": {},
   "outputs": [],
   "source": [
    "#==================== abstracting table from the image =================================="
   ]
  },
  {
   "cell_type": "code",
   "execution_count": 13,
   "metadata": {},
   "outputs": [],
   "source": [
    "image1= cv2.imread(image_path)\n",
    "gray = cv2.cvtColor(image1, cv2.COLOR_BGR2GRAY)"
   ]
  },
  {
   "cell_type": "code",
   "execution_count": 14,
   "metadata": {},
   "outputs": [
    {
     "name": "stdout",
     "output_type": "stream",
     "text": [
      "\n"
     ]
    }
   ],
   "source": [
    "_, binary = cv2.threshold(gray, 0, 255, cv2.THRESH_BINARY_INV | cv2.THRESH_OTSU)\n",
    "\n",
    "# Apply morphological operations to enhance the table lines\n",
    "kernel = cv2.getStructuringElement(cv2.MORPH_RECT, (3, 3))\n",
    "eroded = cv2.erode(binary, kernel, iterations=1)\n",
    "dilated = cv2.dilate(eroded, kernel, iterations=1)\n",
    "\n",
    "# Perform OCR on the processed image\n",
    "extracted_text = pytesseract.image_to_string(dilated)\n",
    "\n",
    "# Process the extracted text to extract table structure and data\n",
    "\n",
    "# Print the extracted table structure and data\n",
    "print(extracted_text)"
   ]
  },
  {
   "cell_type": "code",
   "execution_count": null,
   "metadata": {},
   "outputs": [],
   "source": []
  },
  {
   "cell_type": "code",
   "execution_count": null,
   "metadata": {},
   "outputs": [],
   "source": []
  },
  {
   "cell_type": "code",
   "execution_count": null,
   "metadata": {},
   "outputs": [],
   "source": []
  },
  {
   "cell_type": "code",
   "execution_count": null,
   "metadata": {},
   "outputs": [],
   "source": []
  },
  {
   "cell_type": "code",
   "execution_count": null,
   "metadata": {},
   "outputs": [],
   "source": []
  },
  {
   "cell_type": "code",
   "execution_count": null,
   "metadata": {},
   "outputs": [],
   "source": []
  },
  {
   "cell_type": "code",
   "execution_count": null,
   "metadata": {},
   "outputs": [],
   "source": []
  },
  {
   "cell_type": "code",
   "execution_count": null,
   "metadata": {},
   "outputs": [],
   "source": []
  },
  {
   "cell_type": "code",
   "execution_count": null,
   "metadata": {},
   "outputs": [],
   "source": []
  },
  {
   "cell_type": "code",
   "execution_count": null,
   "metadata": {},
   "outputs": [],
   "source": []
  },
  {
   "cell_type": "code",
   "execution_count": null,
   "metadata": {},
   "outputs": [],
   "source": []
  },
  {
   "cell_type": "code",
   "execution_count": null,
   "metadata": {},
   "outputs": [],
   "source": []
  },
  {
   "cell_type": "code",
   "execution_count": null,
   "metadata": {},
   "outputs": [],
   "source": []
  },
  {
   "cell_type": "code",
   "execution_count": null,
   "metadata": {},
   "outputs": [],
   "source": []
  },
  {
   "cell_type": "code",
   "execution_count": null,
   "metadata": {},
   "outputs": [],
   "source": []
  },
  {
   "cell_type": "code",
   "execution_count": null,
   "metadata": {},
   "outputs": [],
   "source": []
  },
  {
   "cell_type": "code",
   "execution_count": null,
   "metadata": {},
   "outputs": [],
   "source": []
  },
  {
   "cell_type": "code",
   "execution_count": null,
   "metadata": {},
   "outputs": [],
   "source": []
  },
  {
   "cell_type": "code",
   "execution_count": null,
   "metadata": {},
   "outputs": [],
   "source": []
  },
  {
   "cell_type": "code",
   "execution_count": null,
   "metadata": {},
   "outputs": [],
   "source": []
  },
  {
   "cell_type": "code",
   "execution_count": null,
   "metadata": {},
   "outputs": [],
   "source": []
  },
  {
   "cell_type": "code",
   "execution_count": null,
   "metadata": {},
   "outputs": [],
   "source": []
  },
  {
   "cell_type": "code",
   "execution_count": null,
   "metadata": {},
   "outputs": [],
   "source": []
  }
 ],
 "metadata": {
  "kernelspec": {
   "display_name": "Python 3",
   "language": "python",
   "name": "python3"
  },
  "language_info": {
   "codemirror_mode": {
    "name": "ipython",
    "version": 3
   },
   "file_extension": ".py",
   "mimetype": "text/x-python",
   "name": "python",
   "nbconvert_exporter": "python",
   "pygments_lexer": "ipython3",
   "version": "3.10.0"
  },
  "orig_nbformat": 4
 },
 "nbformat": 4,
 "nbformat_minor": 2
}
